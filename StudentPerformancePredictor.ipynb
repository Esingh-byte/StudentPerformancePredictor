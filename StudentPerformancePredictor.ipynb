{
 "cells": [
  {
   "cell_type": "code",
   "execution_count": 88,
   "id": "29bec6ea-d87d-4016-b427-f812f1519f4e",
   "metadata": {},
   "outputs": [],
   "source": [
    "import pandas as pd\n",
    "import numpy as np\n",
    "import sklearn\n",
    "from sklearn import linear_model\n",
    "from sklearn.utils import shuffle\n",
    "import matplotlib.pyplot as plt\n",
    "from matplotlib import style\n",
    "import pickle"
   ]
  },
  {
   "cell_type": "code",
   "execution_count": 90,
   "id": "5410e2d2-3235-432d-b3c7-1bc977c27a0c",
   "metadata": {},
   "outputs": [],
   "source": [
    "style.use(\"ggplot\")\n"
   ]
  },
  {
   "cell_type": "code",
   "execution_count": 92,
   "id": "95b2dbe1-c9e9-4b9e-97b2-b333070d163f",
   "metadata": {},
   "outputs": [],
   "source": [
    "data = pd.read_csv(\"student-mat.csv\", sep=\";\")"
   ]
  },
  {
   "cell_type": "code",
   "execution_count": 94,
   "id": "b8a3ef77-0b1f-4511-b626-2a1316cfc567",
   "metadata": {},
   "outputs": [
    {
     "data": {
      "text/html": [
       "<div>\n",
       "<style scoped>\n",
       "    .dataframe tbody tr th:only-of-type {\n",
       "        vertical-align: middle;\n",
       "    }\n",
       "\n",
       "    .dataframe tbody tr th {\n",
       "        vertical-align: top;\n",
       "    }\n",
       "\n",
       "    .dataframe thead th {\n",
       "        text-align: right;\n",
       "    }\n",
       "</style>\n",
       "<table border=\"1\" class=\"dataframe\">\n",
       "  <thead>\n",
       "    <tr style=\"text-align: right;\">\n",
       "      <th></th>\n",
       "      <th>school</th>\n",
       "      <th>sex</th>\n",
       "      <th>age</th>\n",
       "      <th>address</th>\n",
       "      <th>famsize</th>\n",
       "      <th>Pstatus</th>\n",
       "      <th>Medu</th>\n",
       "      <th>Fedu</th>\n",
       "      <th>Mjob</th>\n",
       "      <th>Fjob</th>\n",
       "      <th>...</th>\n",
       "      <th>famrel</th>\n",
       "      <th>freetime</th>\n",
       "      <th>goout</th>\n",
       "      <th>Dalc</th>\n",
       "      <th>Walc</th>\n",
       "      <th>health</th>\n",
       "      <th>absences</th>\n",
       "      <th>G1</th>\n",
       "      <th>G2</th>\n",
       "      <th>G3</th>\n",
       "    </tr>\n",
       "  </thead>\n",
       "  <tbody>\n",
       "    <tr>\n",
       "      <th>0</th>\n",
       "      <td>GP</td>\n",
       "      <td>F</td>\n",
       "      <td>18</td>\n",
       "      <td>U</td>\n",
       "      <td>GT3</td>\n",
       "      <td>A</td>\n",
       "      <td>4</td>\n",
       "      <td>4</td>\n",
       "      <td>at_home</td>\n",
       "      <td>teacher</td>\n",
       "      <td>...</td>\n",
       "      <td>4</td>\n",
       "      <td>3</td>\n",
       "      <td>4</td>\n",
       "      <td>1</td>\n",
       "      <td>1</td>\n",
       "      <td>3</td>\n",
       "      <td>6</td>\n",
       "      <td>5</td>\n",
       "      <td>6</td>\n",
       "      <td>6</td>\n",
       "    </tr>\n",
       "    <tr>\n",
       "      <th>1</th>\n",
       "      <td>GP</td>\n",
       "      <td>F</td>\n",
       "      <td>17</td>\n",
       "      <td>U</td>\n",
       "      <td>GT3</td>\n",
       "      <td>T</td>\n",
       "      <td>1</td>\n",
       "      <td>1</td>\n",
       "      <td>at_home</td>\n",
       "      <td>other</td>\n",
       "      <td>...</td>\n",
       "      <td>5</td>\n",
       "      <td>3</td>\n",
       "      <td>3</td>\n",
       "      <td>1</td>\n",
       "      <td>1</td>\n",
       "      <td>3</td>\n",
       "      <td>4</td>\n",
       "      <td>5</td>\n",
       "      <td>5</td>\n",
       "      <td>6</td>\n",
       "    </tr>\n",
       "    <tr>\n",
       "      <th>2</th>\n",
       "      <td>GP</td>\n",
       "      <td>F</td>\n",
       "      <td>15</td>\n",
       "      <td>U</td>\n",
       "      <td>LE3</td>\n",
       "      <td>T</td>\n",
       "      <td>1</td>\n",
       "      <td>1</td>\n",
       "      <td>at_home</td>\n",
       "      <td>other</td>\n",
       "      <td>...</td>\n",
       "      <td>4</td>\n",
       "      <td>3</td>\n",
       "      <td>2</td>\n",
       "      <td>2</td>\n",
       "      <td>3</td>\n",
       "      <td>3</td>\n",
       "      <td>10</td>\n",
       "      <td>7</td>\n",
       "      <td>8</td>\n",
       "      <td>10</td>\n",
       "    </tr>\n",
       "    <tr>\n",
       "      <th>3</th>\n",
       "      <td>GP</td>\n",
       "      <td>F</td>\n",
       "      <td>15</td>\n",
       "      <td>U</td>\n",
       "      <td>GT3</td>\n",
       "      <td>T</td>\n",
       "      <td>4</td>\n",
       "      <td>2</td>\n",
       "      <td>health</td>\n",
       "      <td>services</td>\n",
       "      <td>...</td>\n",
       "      <td>3</td>\n",
       "      <td>2</td>\n",
       "      <td>2</td>\n",
       "      <td>1</td>\n",
       "      <td>1</td>\n",
       "      <td>5</td>\n",
       "      <td>2</td>\n",
       "      <td>15</td>\n",
       "      <td>14</td>\n",
       "      <td>15</td>\n",
       "    </tr>\n",
       "    <tr>\n",
       "      <th>4</th>\n",
       "      <td>GP</td>\n",
       "      <td>F</td>\n",
       "      <td>16</td>\n",
       "      <td>U</td>\n",
       "      <td>GT3</td>\n",
       "      <td>T</td>\n",
       "      <td>3</td>\n",
       "      <td>3</td>\n",
       "      <td>other</td>\n",
       "      <td>other</td>\n",
       "      <td>...</td>\n",
       "      <td>4</td>\n",
       "      <td>3</td>\n",
       "      <td>2</td>\n",
       "      <td>1</td>\n",
       "      <td>2</td>\n",
       "      <td>5</td>\n",
       "      <td>4</td>\n",
       "      <td>6</td>\n",
       "      <td>10</td>\n",
       "      <td>10</td>\n",
       "    </tr>\n",
       "  </tbody>\n",
       "</table>\n",
       "<p>5 rows × 33 columns</p>\n",
       "</div>"
      ],
      "text/plain": [
       "  school sex  age address famsize Pstatus  Medu  Fedu     Mjob      Fjob  ...  \\\n",
       "0     GP   F   18       U     GT3       A     4     4  at_home   teacher  ...   \n",
       "1     GP   F   17       U     GT3       T     1     1  at_home     other  ...   \n",
       "2     GP   F   15       U     LE3       T     1     1  at_home     other  ...   \n",
       "3     GP   F   15       U     GT3       T     4     2   health  services  ...   \n",
       "4     GP   F   16       U     GT3       T     3     3    other     other  ...   \n",
       "\n",
       "  famrel freetime  goout  Dalc  Walc health absences  G1  G2  G3  \n",
       "0      4        3      4     1     1      3        6   5   6   6  \n",
       "1      5        3      3     1     1      3        4   5   5   6  \n",
       "2      4        3      2     2     3      3       10   7   8  10  \n",
       "3      3        2      2     1     1      5        2  15  14  15  \n",
       "4      4        3      2     1     2      5        4   6  10  10  \n",
       "\n",
       "[5 rows x 33 columns]"
      ]
     },
     "execution_count": 94,
     "metadata": {},
     "output_type": "execute_result"
    }
   ],
   "source": [
    "data.head()"
   ]
  },
  {
   "cell_type": "code",
   "execution_count": 96,
   "id": "51c267ab-e60e-4548-828e-2b78a76340c5",
   "metadata": {},
   "outputs": [],
   "source": [
    "predict = \"G3\""
   ]
  },
  {
   "cell_type": "code",
   "execution_count": 98,
   "id": "59e02641-30df-415f-bc6f-01246ee1e6e1",
   "metadata": {},
   "outputs": [],
   "source": [
    "data = data[[ \"G1\", \"G2\", \"G3\", \"studytime\", \"health\", \"famrel\", \"failures\", \"absences\"]]\n",
    "data = shuffle(data)"
   ]
  },
  {
   "cell_type": "code",
   "execution_count": 100,
   "id": "7c3063b0-e96e-4180-a240-d6bc99a612fc",
   "metadata": {},
   "outputs": [],
   "source": [
    "x = np.array(data.drop(columns=[predict]))\n",
    "y = np.array(data[predict])"
   ]
  },
  {
   "cell_type": "code",
   "execution_count": 102,
   "id": "c4d9ef2b-4c89-4249-8354-04ab852f1918",
   "metadata": {},
   "outputs": [],
   "source": [
    "from sklearn.model_selection import train_test_split\n",
    "x_train, x_test, y_train, y_test = sklearn.model_selection.train_test_split(x, y, test_size = 0.1)"
   ]
  },
  {
   "cell_type": "code",
   "execution_count": 104,
   "id": "3eaca47b-ad17-4d61-a633-e1750a118315",
   "metadata": {},
   "outputs": [
    {
     "name": "stdout",
     "output_type": "stream",
     "text": [
      "(355, 7) (40, 7) (40,) (40,)\n"
     ]
    }
   ],
   "source": [
    "print(x_train.shape, x_test.shape, y_test.shape, y_test.shape)"
   ]
  },
  {
   "cell_type": "code",
   "execution_count": 106,
   "id": "ee7e7ee4-4abb-4430-9164-4c2623f46cdf",
   "metadata": {},
   "outputs": [
    {
     "name": "stdout",
     "output_type": "stream",
     "text": [
      "Accuracy (R-squared): 0.8696010773203714\n"
     ]
    }
   ],
   "source": [
    "linear = linear_model.LinearRegression()\n",
    "linear.fit(x_train, y_train)\n",
    "acc = linear.score(x_test, y_test)\n",
    "print(\"Accuracy (R-squared):\", acc)"
   ]
  },
  {
   "cell_type": "code",
   "execution_count": 108,
   "id": "dd212037-a72b-4c8b-b810-9173357c8ae2",
   "metadata": {},
   "outputs": [],
   "source": [
    "with open(\"studentgrades.pickle\", \"wb\") as f:\n",
    "    pickle.dump(linear, f)\n",
    "pickle_in = open(\"studentgrades.pickle\", \"rb\")\n",
    "linear = pickle.load(pickle_in)"
   ]
  },
  {
   "cell_type": "code",
   "execution_count": 110,
   "id": "f16c5b08-f41f-450b-bf25-5f6d22bbac15",
   "metadata": {},
   "outputs": [
    {
     "name": "stdout",
     "output_type": "stream",
     "text": [
      "Coefficient (weights for each feature): \n",
      " [ 0.15159961  0.988397   -0.2133667   0.0999122   0.26227881 -0.27386366\n",
      "  0.03430077]\n",
      "Intercept (the starting value): \n",
      " -2.894780502622419\n"
     ]
    }
   ],
   "source": [
    "print('Coefficient (weights for each feature): \\n', linear.coef_)\n",
    "print('Intercept (the starting value): \\n', linear.intercept_)"
   ]
  },
  {
   "cell_type": "code",
   "execution_count": 112,
   "id": "ffdd305b-b082-4ba3-b461-ef4314861577",
   "metadata": {},
   "outputs": [],
   "source": [
    "predictions = linear.predict(x_test)"
   ]
  },
  {
   "cell_type": "code",
   "execution_count": 114,
   "id": "9cb7dad6-6d28-4009-a285-9229d3db0ab1",
   "metadata": {},
   "outputs": [
    {
     "name": "stdout",
     "output_type": "stream",
     "text": [
      "Example Predictions:\n",
      "Predicted Grade: -1.3607850485469342\n",
      "Student's Data: [5 0 1 5 5 3 0]\n",
      "Actual Grade: 0\n",
      "\n",
      "Predicted Grade: 3.8849008657837594\n",
      "Student's Data: [6 5 2 1 4 0 6]\n",
      "Actual Grade: 6\n",
      "\n",
      "Predicted Grade: 18.967302569021925\n",
      "Student's Data: [19 18  2  5  4  0  2]\n",
      "Actual Grade: 18\n",
      "\n",
      "Predicted Grade: 13.30939715756134\n",
      "Student's Data: [13 13  2  5  5  0  0]\n",
      "Actual Grade: 12\n",
      "\n",
      "Predicted Grade: 13.065225946405072\n",
      "Student's Data: [13 13  2  3  3  0 14]\n",
      "Actual Grade: 14\n",
      "\n"
     ]
    }
   ],
   "source": [
    "print(\"Example Predictions:\")\n",
    "for i in range(5):\n",
    "    print(\"Predicted Grade:\", predictions[i])\n",
    "    print(\"Student's Data:\", x_test[i])\n",
    "    print(\"Actual Grade:\", y_test[i])\n",
    "    print()"
   ]
  },
  {
   "cell_type": "code",
   "execution_count": 116,
   "id": "b500ada3-8dd3-4cec-a920-7ba0b3af66c6",
   "metadata": {},
   "outputs": [
    {
     "data": {
      "image/png": "[encoded data removed]",
      "text/plain": [
       "<Figure size 640x480 with 1 Axes>"
      ]
     },
     "metadata": {},
     "output_type": "display_data"
    }
   ],
   "source": [
    "plt.scatter(y_test, predictions)\n",
    "plt.xlabel(\"Actual Final Grade (y_test)\")\n",
    "plt.ylabel(\"Predicted Final Grade (predictions)\")\n",
    "plt.title(\"Actual vs. Predicted Grades\")\n",
    "plt.show()"
   ]
  },
  {
   "cell_type": "code",
   "execution_count": 124,
   "id": "72f6790e-f3e4-4711-b641-2e1e9a5662e6",
   "metadata": {},
   "outputs": [
    {
     "name": "stdout",
     "output_type": "stream",
     "text": [
      "Please enter the following information:\n"
     ]
    },
    {
     "name": "stdin",
     "output_type": "stream",
     "text": [
      "First period grade (G1) (0-20):  14\n",
      "Second period grade (G2) (0-20):  15\n",
      "Weekly study time (1-4):  3\n",
      "Current health status (1-5):  4\n",
      "Quality of family relationships (1-5):  5\n",
      "Number of past class failures (0-4):  0\n",
      "Number of school absences (0-93):  3\n"
     ]
    },
    {
     "name": "stdout",
     "output_type": "stream",
     "text": [
      "---------------------------------\n",
      "Predicted Final Score (G3): 15.23\n",
      "Prediction: You will PASS!\n"
     ]
    }
   ],
   "source": [
    "# print(\"--- Student Performance Predictor ---\")\n",
    "print(\"Please enter the following information:\")\n",
    "\n",
    "g1 = int(input(\"First period grade (G1) (0-20): \"))\n",
    "g2 = int(input(\"Second period grade (G2) (0-20): \"))\n",
    "studytime = int(input(\"Weekly study time (1-4): \"))\n",
    "health = int(input(\"Current health status (1-5): \"))\n",
    "famrel = int(input(\"Quality of family relationships (1-5): \"))\n",
    "failures = int(input(\"Number of past class failures (0-4): \"))\n",
    "absences = int(input(\"Number of school absences (0-93): \"))\n",
    "\n",
    "user_data = np.array([[g1, g2, studytime, health, famrel, failures, absences]])\n",
    "predicted_score = linear.predict(user_data)\n",
    "\n",
    "print(\"---------------------------------\")\n",
    "print(f\"Predicted Final Score (G3): {predicted_score[0]:.2f}\") \n",
    "\n",
    "if predicted_score[0] >= 10:\n",
    "    print(\"Prediction: You will PASS!\")\n",
    "else:\n",
    "    print(\"Prediction: You are at risk of FAILING.\")"
   ]
  },
  {
   "cell_type": "code",
   "execution_count": null,
   "id": "3d51f9bb-2c2b-4008-af9d-56759a80838b",
   "metadata": {},
   "outputs": [],
   "source": []
  }
 ],
 "metadata": {
  "kernelspec": {
   "display_name": "Python 3 (ipykernel)",
   "language": "python",
   "name": "python3"
  },
  "language_info": {
   "codemirror_mode": {
    "name": "ipython",
    "version": 3
   },
   "file_extension": ".py",
   "mimetype": "text/x-python",
   "name": "python",
   "nbconvert_exporter": "python",
   "pygments_lexer": "ipython3",
   "version": "3.12.7"
  }
 },
 "nbformat": 4,
 "nbformat_minor": 5
}
